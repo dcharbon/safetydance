{
 "cells": [
  {
   "cell_type": "code",
   "execution_count": 2,
   "metadata": {},
   "outputs": [
    {
     "name": "stderr",
     "output_type": "stream",
     "text": [
      "INFO:FooLog:SomeFoo.bar: 42\n"
     ]
    },
    {
     "name": "stdout",
     "output_type": "stream",
     "text": [
      "arg1 no keyword arg provided arg2 None\n",
      "1 2\n",
      "arg1 keyword arg provided arg2 this is the keyword arg\n",
      "1 2\n",
      "3\n",
      "42\n"
     ]
    }
   ],
   "source": [
    "from dataclasses import dataclass\n",
    "from safetydance import Context, ContextKey, script, step, step_data\n",
    "import logging\n",
    "\n",
    "logging.basicConfig(level=logging.DEBUG)\n",
    "\n",
    "@dataclass\n",
    "class Foo:\n",
    "    bar: int\n",
    "\n",
    "        \n",
    "One = step_data(int)\n",
    "Two = step_data(int, \"Here's a description for ya!\")\n",
    "Logger = step_data(logging.Logger)\n",
    "SomeFoo = step_data(Foo)\n",
    "\n",
    "@step\n",
    "def step_one():\n",
    "    One = 1  # context[One] = 1\n",
    "    SomeFoo = Foo(42)\n",
    "    Logger = logging.getLogger(\"FooLog\")\n",
    "\n",
    "    \n",
    "@step\n",
    "def step_two():\n",
    "    Two = 2\n",
    "    \n",
    "    \n",
    "@step\n",
    "def step_with_args(arg1, arg2=None):\n",
    "    print(\"arg1\", arg1, \"arg2\", arg2)\n",
    "    print(One, Two)\n",
    "    step_one()\n",
    "    \n",
    "    \n",
    "@script\n",
    "def my_script():\n",
    "    step_one()\n",
    "    step_two()\n",
    "    step_with_args(\"no keyword arg provided\")\n",
    "    step_with_args(\"keyword arg provided\", arg2=\"this is the keyword arg\")\n",
    "    One = 3\n",
    "    print(One)\n",
    "    print(SomeFoo.bar)\n",
    "    Logger.info(f\"SomeFoo.bar: {SomeFoo.bar}\")\n",
    "    \n",
    "my_script()"
   ]
  }
 ],
 "metadata": {
  "kernelspec": {
   "display_name": "Python 3.8.13 ('safetydance')",
   "language": "python",
   "name": "python3"
  },
  "language_info": {
   "codemirror_mode": {
    "name": "ipython",
    "version": 3
   },
   "file_extension": ".py",
   "mimetype": "text/x-python",
   "name": "python",
   "nbconvert_exporter": "python",
   "pygments_lexer": "ipython3",
   "version": "3.9.15"
  },
  "vscode": {
   "interpreter": {
    "hash": "2940a40c40a0ac8b3ba39e0327bc7724340b68de7bf0a54dbba8c71ebfe52a7d"
   }
  }
 },
 "nbformat": 4,
 "nbformat_minor": 4
}
